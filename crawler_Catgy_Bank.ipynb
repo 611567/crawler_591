{
 "cells": [
  {
   "cell_type": "markdown",
   "metadata": {},
   "source": [
    "# Crawler 591 web\n",
    "\n",
    "敝人爬蟲目標為591店面出租資料，因認為具有店面之房東，其有較高之機率經濟能力更好。"
   ]
  },
  {
   "cell_type": "code",
   "execution_count": 1,
   "metadata": {
    "collapsed": true
   },
   "outputs": [],
   "source": [
    "###################################################\n",
    "#=====================591 crawler==================\n",
    "###################################################\n",
    "from PIL import Image\n",
    "import requests \n",
    "from bs4 import BeautifulSoup\n",
    "import json \n",
    "from io import BytesIO\n",
    "import pytesseract\n",
    "import pandas as pd\n",
    "import numpy as np\n",
    "import matplotlib.pyplot as plt\n",
    "from sklearn.cluster import KMeans\n",
    "from sklearn import cluster, datasets, metrics\n",
    "from pandas.tools.plotting import table\n",
    "from collections import Counter\n",
    "from pylab import *\n"
   ]
  },
  {
   "cell_type": "code",
   "execution_count": null,
   "metadata": {},
   "outputs": [],
   "source": [
    "a={}\n",
    "temp = {}\n",
    "http = []\n",
    "detail = []\n",
    "phone = []\n",
    "url_phone = []\n",
    "df = pd.DataFrame()\n",
    "data = {}\n",
    "make_to_dict = []\n",
    "result = pd.DataFrame()\n",
    "\n",
    "headers = { \n",
    "    'user-agent':'Mozilla/5.0 (Windows NT 6.1; Win64; x64) AppleWebKit/537.36 (KHTML, like Gecko) Chrome/65.0.3325.181 Safari/537.36','Accept-Language':'zh-TW'\n",
    "}\n",
    "#==================API of each page================\n",
    "url = ['https://business.591.com.tw/home/search/rsList?is_new_list=1&storeType=1&type=1&kind=5&searchtype=1&region=1&firstRow={}&totalRows=2833'.format(str(i)) for i in range(0,2826,30)]\n",
    "for m in range(0,95):\n",
    "    res = requests.get(url[m], headers = headers)\n",
    "    #print(\"url[m]=\",m)\n",
    "    data[m] = json.loads(res.text)\n",
    "#====================phone number==================\n",
    "def get_text(image):\n",
    "    return pytesseract.image_to_string(image) #get number which is in the image\n",
    "#===================house information==============\n",
    "for i in range(0,95):\n",
    "    for j in range(0,30):\n",
    "        temp = 'https://rent.591.com.tw/rent-detail-' + str(data[i]['data']['data'][j]['id']) + '.html' #each link\n",
    "        #print(\"i=\",i,\"j=\",j)\n",
    "        #print(temp)\n",
    "        #http[i].append(temp)        \n",
    "        #print('https://rent.591.com.tw/' + data[i]['data']['topData'][j]['detail_url'])\n",
    "        respond = requests.get(temp,headers = headers)\n",
    "        soup = BeautifulSoup(respond.text,'html.parser')\n",
    "        article_name = 'h1 span.houseInfoTitle'\n",
    "        household_name = 'div.avatarRight div'\n",
    "        image_name = 'div.j-phone.infoTwo.clearfix-new.phone-hide span.num img'\n",
    "        ping_name = 'ul.attr li'\n",
    "        price_name = 'div.price.clearfix i'\n",
    "        floor_name = 'ul.attr li'\n",
    "        decorate_name = 'div.two em'\n",
    "        address_name = 'div.clearfix span.addr'\n",
    "        \n",
    "        article = soup.select(article_name)\n",
    "        household = soup.select(household_name)\n",
    "        ping = soup.select(ping_name)\n",
    "        phone_image = soup.select(image_name)\n",
    "        price = soup.select(price_name)\n",
    "        floor = soup.select(floor_name)\n",
    "        decorate = soup.select(decorate_name)\n",
    "        address = soup.select(address_name)\n",
    "        if not phone_image:\n",
    "            image_name = 'div.j-phone.infoTwo.clearfix-new.phone-hide span.num'\n",
    "            phone_image = soup.select(image_name)\n",
    "            if not phone_image:\n",
    "                continue #the object is removed\n",
    "            else:\n",
    "                temp3 = phone_image[0].text\n",
    "        else:\n",
    "            url_phone = 'http:' + phone_image[0]['src']\n",
    "            temp2 = requests.get(url_phone, headers = headers, stream=True, verify=False)\n",
    "            b = Image.open(BytesIO(temp2.content))\n",
    "            pytesseract.pytesseract.tesseract_cmd = 'C:\\\\Program Files (x86)\\\\Tesseract-OCR\\\\tesseract.exe'\n",
    "            temp3 = pytesseract.image_to_string(b)\n",
    "        #print(article[0].text)\n",
    "        #print(household[0].text)\n",
    "        #print(address[0].text)\n",
    "        #print(address[0].text[3:6])\n",
    "        #print(temp3)\n",
    "        #print(price[0].text)\n",
    "        #print(ping[0].text)\n",
    "        #print(floor[1].text)\n",
    "        \n",
    "        #for k in decorate:\n",
    "        #    print(k['title'])\n",
    "        make_to_dict = {'article':article[0].text,'household':household[0].text,\"address\":address[0].text,\"area\":address[0].text[3:6],\n",
    "                        \"phone\":temp3,\"price\":price[0].text,\"space\":ping[0].text,'management_fee':decorate[1].text,\n",
    "                        'parking_space':decorate[2].text,'lease_tern':decorate[3].text,'decorate':decorate[4].text}\n",
    "                        \n",
    "        df = df.append(make_to_dict,ignore_index=True)\n",
    "        #print(\"========================\")\n",
    "df.to_csv('C:\\\\Users\\\\user\\\\Desktop\\\\cathy5.csv',index=False)"
   ]
  },
  {
   "cell_type": "markdown",
   "metadata": {},
   "source": [
    "# check the first 10 data"
   ]
  },
  {
   "cell_type": "code",
   "execution_count": 2,
   "metadata": {},
   "outputs": [
    {
     "data": {
      "text/html": [
       "<div>\n",
       "<style>\n",
       "    .dataframe thead tr:only-child th {\n",
       "        text-align: right;\n",
       "    }\n",
       "\n",
       "    .dataframe thead th {\n",
       "        text-align: left;\n",
       "    }\n",
       "\n",
       "    .dataframe tbody tr th {\n",
       "        vertical-align: top;\n",
       "    }\n",
       "</style>\n",
       "<table border=\"1\" class=\"dataframe\">\n",
       "  <thead>\n",
       "    <tr style=\"text-align: right;\">\n",
       "      <th></th>\n",
       "      <th>address</th>\n",
       "      <th>area</th>\n",
       "      <th>article</th>\n",
       "      <th>decorate</th>\n",
       "      <th>household</th>\n",
       "      <th>lease_tern</th>\n",
       "      <th>management_fee</th>\n",
       "      <th>parking_space</th>\n",
       "      <th>phone</th>\n",
       "      <th>price</th>\n",
       "      <th>space</th>\n",
       "    </tr>\n",
       "  </thead>\n",
       "  <tbody>\n",
       "    <tr>\n",
       "      <th>0</th>\n",
       "      <td>台北市大安區延吉街62巷</td>\n",
       "      <td>大安區</td>\n",
       "      <td>統領圈居酒屋街-忠孝東4段223巷42旁</td>\n",
       "      <td>高檔裝潢</td>\n",
       "      <td>王先生/王小姐（屋主）</td>\n",
       "      <td>兩年</td>\n",
       "      <td>500元/月</td>\n",
       "      <td>無</td>\n",
       "      <td>0933- 397- 518</td>\n",
       "      <td>88,000 元/月</td>\n",
       "      <td>坪數?:??20坪</td>\n",
       "    </tr>\n",
       "    <tr>\n",
       "      <th>1</th>\n",
       "      <td>台北市信義區松隆路200號</td>\n",
       "      <td>信義區</td>\n",
       "      <td>正松隆路上大店面分租</td>\n",
       "      <td>已辦</td>\n",
       "      <td>方先生（代理人）</td>\n",
       "      <td>一年</td>\n",
       "      <td>--</td>\n",
       "      <td>無</td>\n",
       "      <td>0937- 115- 450</td>\n",
       "      <td>25,000 元/月</td>\n",
       "      <td>坪數?:??25坪</td>\n",
       "    </tr>\n",
       "    <tr>\n",
       "      <th>2</th>\n",
       "      <td>台北市中正區和平西路一段</td>\n",
       "      <td>中正區</td>\n",
       "      <td>古亭捷運8號出口吸金店面</td>\n",
       "      <td>尚未裝潢</td>\n",
       "      <td>王先生(仲介，收取服務費)</td>\n",
       "      <td>5年</td>\n",
       "      <td>無</td>\n",
       "      <td>無</td>\n",
       "      <td>0911- 220- 012</td>\n",
       "      <td>450,000 元/月</td>\n",
       "      <td>坪數?:??84坪</td>\n",
       "    </tr>\n",
       "    <tr>\n",
       "      <th>3</th>\n",
       "      <td>台北市信義區忠孝東路五段520號</td>\n",
       "      <td>信義區</td>\n",
       "      <td>永春捷運站店面麥當勞商圈</td>\n",
       "      <td>簡易裝潢</td>\n",
       "      <td>黃先生(仲介，收取服務費)</td>\n",
       "      <td>兩年</td>\n",
       "      <td>4056元/月</td>\n",
       "      <td>無</td>\n",
       "      <td>0931- 067- 175</td>\n",
       "      <td>158,000 元/月</td>\n",
       "      <td>坪數?:??52坪</td>\n",
       "    </tr>\n",
       "    <tr>\n",
       "      <th>4</th>\n",
       "      <td>台北市松山區八德路四段</td>\n",
       "      <td>松山區</td>\n",
       "      <td>松山火車站饒河夜市之正八德路透天黃金店面</td>\n",
       "      <td>中檔裝潢</td>\n",
       "      <td>王先生（屋主）</td>\n",
       "      <td>兩年</td>\n",
       "      <td>無</td>\n",
       "      <td>平面式停車位，費用另計</td>\n",
       "      <td>0918- 283- 188</td>\n",
       "      <td>200,000 元/月</td>\n",
       "      <td>坪數?:??145坪</td>\n",
       "    </tr>\n",
       "    <tr>\n",
       "      <th>5</th>\n",
       "      <td>台北市松山區撫遠街</td>\n",
       "      <td>松山區</td>\n",
       "      <td>松機民生吸睛店辦近內湖地段佳人氣旺開店嘍</td>\n",
       "      <td>簡易裝潢</td>\n",
       "      <td>松華商仲   吳經理(仲介，收取服務費)</td>\n",
       "      <td>兩年</td>\n",
       "      <td>--</td>\n",
       "      <td>無</td>\n",
       "      <td>0939- 060- 379</td>\n",
       "      <td>96,899 元/月</td>\n",
       "      <td>坪數?:??69坪</td>\n",
       "    </tr>\n",
       "    <tr>\n",
       "      <th>6</th>\n",
       "      <td>台北市大安區延吉街62巷</td>\n",
       "      <td>大安區</td>\n",
       "      <td>自租★東區居酒屋街徒步區適各行業★有衛浴</td>\n",
       "      <td>高檔裝潢</td>\n",
       "      <td>王先生/王小姐（屋主）</td>\n",
       "      <td>兩年</td>\n",
       "      <td>250元/月</td>\n",
       "      <td>無</td>\n",
       "      <td>0938- 252- 562</td>\n",
       "      <td>38,000 元/月</td>\n",
       "      <td>坪數?:??8坪</td>\n",
       "    </tr>\n",
       "    <tr>\n",
       "      <th>7</th>\n",
       "      <td>台北市大安區大安路一段16巷</td>\n",
       "      <td>大安區</td>\n",
       "      <td>SOGO忠孝商圈金店面</td>\n",
       "      <td>簡易裝潢</td>\n",
       "      <td>游先生(仲介，收取服務費)</td>\n",
       "      <td>一年</td>\n",
       "      <td>無</td>\n",
       "      <td>無</td>\n",
       "      <td>0970- 000- 267</td>\n",
       "      <td>70,000 元/月</td>\n",
       "      <td>坪數?:??12坪</td>\n",
       "    </tr>\n",
       "    <tr>\n",
       "      <th>8</th>\n",
       "      <td>台北市中正區忠孝西路一段50號</td>\n",
       "      <td>中正區</td>\n",
       "      <td>北車捷運地下街,彩妝,藥妝,國際品牌等</td>\n",
       "      <td>高檔裝潢</td>\n",
       "      <td>陳經理（代理人）</td>\n",
       "      <td>1月</td>\n",
       "      <td>73000元/月</td>\n",
       "      <td>無</td>\n",
       "      <td>0932- 203- 133</td>\n",
       "      <td>268,000 元/月</td>\n",
       "      <td>坪數?:??22坪</td>\n",
       "    </tr>\n",
       "    <tr>\n",
       "      <th>9</th>\n",
       "      <td>台北市大安區忠孝東路四段</td>\n",
       "      <td>大安區</td>\n",
       "      <td>正捷運出口忠孝敦化黃金飲料外帶小店面</td>\n",
       "      <td>簡易裝潢</td>\n",
       "      <td>翁先生（代理人）</td>\n",
       "      <td>一年</td>\n",
       "      <td>2000元/月</td>\n",
       "      <td>無</td>\n",
       "      <td>0933- 838- 000</td>\n",
       "      <td>139,999 元/月</td>\n",
       "      <td>坪數?:??10坪</td>\n",
       "    </tr>\n",
       "  </tbody>\n",
       "</table>\n",
       "</div>"
      ],
      "text/plain": [
       "            address area               article decorate             household  \\\n",
       "0      台北市大安區延吉街62巷  大安區  統領圈居酒屋街-忠孝東4段223巷42旁     高檔裝潢           王先生/王小姐（屋主）   \n",
       "1     台北市信義區松隆路200號  信義區            正松隆路上大店面分租       已辦              方先生（代理人）   \n",
       "2      台北市中正區和平西路一段  中正區          古亭捷運8號出口吸金店面     尚未裝潢         王先生(仲介，收取服務費)   \n",
       "3  台北市信義區忠孝東路五段520號  信義區          永春捷運站店面麥當勞商圈     簡易裝潢         黃先生(仲介，收取服務費)   \n",
       "4       台北市松山區八德路四段  松山區  松山火車站饒河夜市之正八德路透天黃金店面     中檔裝潢               王先生（屋主）   \n",
       "5         台北市松山區撫遠街  松山區  松機民生吸睛店辦近內湖地段佳人氣旺開店嘍     簡易裝潢  松華商仲   吳經理(仲介，收取服務費)   \n",
       "6      台北市大安區延吉街62巷  大安區  自租★東區居酒屋街徒步區適各行業★有衛浴     高檔裝潢           王先生/王小姐（屋主）   \n",
       "7    台北市大安區大安路一段16巷  大安區           SOGO忠孝商圈金店面     簡易裝潢         游先生(仲介，收取服務費)   \n",
       "8   台北市中正區忠孝西路一段50號  中正區   北車捷運地下街,彩妝,藥妝,國際品牌等     高檔裝潢              陳經理（代理人）   \n",
       "9      台北市大安區忠孝東路四段  大安區    正捷運出口忠孝敦化黃金飲料外帶小店面     簡易裝潢              翁先生（代理人）   \n",
       "\n",
       "  lease_tern management_fee parking_space           phone         price  \\\n",
       "0         兩年         500元/月             無  0933- 397- 518   88,000 元/月    \n",
       "1         一年             --             無  0937- 115- 450   25,000 元/月    \n",
       "2         5年              無             無  0911- 220- 012  450,000 元/月    \n",
       "3         兩年        4056元/月             無  0931- 067- 175  158,000 元/月    \n",
       "4         兩年              無   平面式停車位，費用另計  0918- 283- 188  200,000 元/月    \n",
       "5         兩年             --             無  0939- 060- 379   96,899 元/月    \n",
       "6         兩年         250元/月             無  0938- 252- 562   38,000 元/月    \n",
       "7         一年              無             無  0970- 000- 267   70,000 元/月    \n",
       "8         1月       73000元/月             無  0932- 203- 133  268,000 元/月    \n",
       "9         一年        2000元/月             無  0933- 838- 000  139,999 元/月    \n",
       "\n",
       "        space  \n",
       "0   坪數?:??20坪  \n",
       "1   坪數?:??25坪  \n",
       "2   坪數?:??84坪  \n",
       "3   坪數?:??52坪  \n",
       "4  坪數?:??145坪  \n",
       "5   坪數?:??69坪  \n",
       "6    坪數?:??8坪  \n",
       "7   坪數?:??12坪  \n",
       "8   坪數?:??22坪  \n",
       "9   坪數?:??10坪  "
      ]
     },
     "execution_count": 2,
     "metadata": {},
     "output_type": "execute_result"
    }
   ],
   "source": [
    "df = pd.read_csv('C:\\\\Users\\\\user\\\\Desktop\\\\cathy4.csv',encoding='big5')\n",
    "df.head(10)"
   ]
  },
  {
   "cell_type": "markdown",
   "metadata": {},
   "source": [
    "# Data Processing and check the first 10 data\n",
    "\n",
    "確認有無異常值，和質資料轉為量資料，方便未來使用。"
   ]
  },
  {
   "cell_type": "code",
   "execution_count": 3,
   "metadata": {},
   "outputs": [
    {
     "data": {
      "text/html": [
       "<div>\n",
       "<style>\n",
       "    .dataframe thead tr:only-child th {\n",
       "        text-align: right;\n",
       "    }\n",
       "\n",
       "    .dataframe thead th {\n",
       "        text-align: left;\n",
       "    }\n",
       "\n",
       "    .dataframe tbody tr th {\n",
       "        vertical-align: top;\n",
       "    }\n",
       "</style>\n",
       "<table border=\"1\" class=\"dataframe\">\n",
       "  <thead>\n",
       "    <tr style=\"text-align: right;\">\n",
       "      <th></th>\n",
       "      <th>address</th>\n",
       "      <th>area</th>\n",
       "      <th>article</th>\n",
       "      <th>decorate</th>\n",
       "      <th>household</th>\n",
       "      <th>lease_tern</th>\n",
       "      <th>management_fee</th>\n",
       "      <th>parking_space</th>\n",
       "      <th>phone</th>\n",
       "      <th>price</th>\n",
       "      <th>space</th>\n",
       "    </tr>\n",
       "  </thead>\n",
       "  <tbody>\n",
       "    <tr>\n",
       "      <th>0</th>\n",
       "      <td>台北市大安區延吉街62巷</td>\n",
       "      <td>3</td>\n",
       "      <td>統領圈居酒屋街-忠孝東4段223巷42旁</td>\n",
       "      <td>3</td>\n",
       "      <td>2</td>\n",
       "      <td>0</td>\n",
       "      <td>500.0</td>\n",
       "      <td>0</td>\n",
       "      <td>0933- 397- 518</td>\n",
       "      <td>88000</td>\n",
       "      <td>20</td>\n",
       "    </tr>\n",
       "    <tr>\n",
       "      <th>1</th>\n",
       "      <td>台北市信義區松隆路200號</td>\n",
       "      <td>4</td>\n",
       "      <td>正松隆路上大店面分租</td>\n",
       "      <td>0</td>\n",
       "      <td>0</td>\n",
       "      <td>1</td>\n",
       "      <td>0.0</td>\n",
       "      <td>0</td>\n",
       "      <td>0937- 115- 450</td>\n",
       "      <td>25000</td>\n",
       "      <td>25</td>\n",
       "    </tr>\n",
       "    <tr>\n",
       "      <th>2</th>\n",
       "      <td>台北市中正區和平西路一段</td>\n",
       "      <td>1</td>\n",
       "      <td>古亭捷運8號出口吸金店面</td>\n",
       "      <td>0</td>\n",
       "      <td>1</td>\n",
       "      <td>5</td>\n",
       "      <td>0.0</td>\n",
       "      <td>0</td>\n",
       "      <td>0911- 220- 012</td>\n",
       "      <td>450000</td>\n",
       "      <td>84</td>\n",
       "    </tr>\n",
       "    <tr>\n",
       "      <th>3</th>\n",
       "      <td>台北市信義區忠孝東路五段520號</td>\n",
       "      <td>4</td>\n",
       "      <td>永春捷運站店面麥當勞商圈</td>\n",
       "      <td>1</td>\n",
       "      <td>1</td>\n",
       "      <td>0</td>\n",
       "      <td>4056.0</td>\n",
       "      <td>0</td>\n",
       "      <td>0931- 067- 175</td>\n",
       "      <td>158000</td>\n",
       "      <td>52</td>\n",
       "    </tr>\n",
       "    <tr>\n",
       "      <th>4</th>\n",
       "      <td>台北市松山區八德路四段</td>\n",
       "      <td>9</td>\n",
       "      <td>松山火車站饒河夜市之正八德路透天黃金店面</td>\n",
       "      <td>2</td>\n",
       "      <td>2</td>\n",
       "      <td>0</td>\n",
       "      <td>0.0</td>\n",
       "      <td>1</td>\n",
       "      <td>0918- 283- 188</td>\n",
       "      <td>200000</td>\n",
       "      <td>145</td>\n",
       "    </tr>\n",
       "    <tr>\n",
       "      <th>5</th>\n",
       "      <td>台北市松山區撫遠街</td>\n",
       "      <td>9</td>\n",
       "      <td>松機民生吸睛店辦近內湖地段佳人氣旺開店嘍</td>\n",
       "      <td>1</td>\n",
       "      <td>1</td>\n",
       "      <td>0</td>\n",
       "      <td>0.0</td>\n",
       "      <td>0</td>\n",
       "      <td>0939- 060- 379</td>\n",
       "      <td>96899</td>\n",
       "      <td>69</td>\n",
       "    </tr>\n",
       "    <tr>\n",
       "      <th>6</th>\n",
       "      <td>台北市大安區延吉街62巷</td>\n",
       "      <td>3</td>\n",
       "      <td>自租★東區居酒屋街徒步區適各行業★有衛浴</td>\n",
       "      <td>3</td>\n",
       "      <td>2</td>\n",
       "      <td>0</td>\n",
       "      <td>250.0</td>\n",
       "      <td>0</td>\n",
       "      <td>0938- 252- 562</td>\n",
       "      <td>38000</td>\n",
       "      <td>8</td>\n",
       "    </tr>\n",
       "    <tr>\n",
       "      <th>7</th>\n",
       "      <td>台北市大安區大安路一段16巷</td>\n",
       "      <td>3</td>\n",
       "      <td>SOGO忠孝商圈金店面</td>\n",
       "      <td>1</td>\n",
       "      <td>1</td>\n",
       "      <td>1</td>\n",
       "      <td>0.0</td>\n",
       "      <td>0</td>\n",
       "      <td>0970- 000- 267</td>\n",
       "      <td>70000</td>\n",
       "      <td>12</td>\n",
       "    </tr>\n",
       "    <tr>\n",
       "      <th>8</th>\n",
       "      <td>台北市中正區忠孝西路一段50號</td>\n",
       "      <td>1</td>\n",
       "      <td>北車捷運地下街,彩妝,藥妝,國際品牌等</td>\n",
       "      <td>3</td>\n",
       "      <td>0</td>\n",
       "      <td>0.083</td>\n",
       "      <td>73000.0</td>\n",
       "      <td>0</td>\n",
       "      <td>0932- 203- 133</td>\n",
       "      <td>268000</td>\n",
       "      <td>22</td>\n",
       "    </tr>\n",
       "    <tr>\n",
       "      <th>9</th>\n",
       "      <td>台北市大安區忠孝東路四段</td>\n",
       "      <td>3</td>\n",
       "      <td>正捷運出口忠孝敦化黃金飲料外帶小店面</td>\n",
       "      <td>1</td>\n",
       "      <td>0</td>\n",
       "      <td>1</td>\n",
       "      <td>2000.0</td>\n",
       "      <td>0</td>\n",
       "      <td>0933- 838- 000</td>\n",
       "      <td>139999</td>\n",
       "      <td>10</td>\n",
       "    </tr>\n",
       "  </tbody>\n",
       "</table>\n",
       "</div>"
      ],
      "text/plain": [
       "            address area               article decorate household lease_tern  \\\n",
       "0      台北市大安區延吉街62巷    3  統領圈居酒屋街-忠孝東4段223巷42旁        3         2          0   \n",
       "1     台北市信義區松隆路200號    4            正松隆路上大店面分租        0         0          1   \n",
       "2      台北市中正區和平西路一段    1          古亭捷運8號出口吸金店面        0         1          5   \n",
       "3  台北市信義區忠孝東路五段520號    4          永春捷運站店面麥當勞商圈        1         1          0   \n",
       "4       台北市松山區八德路四段    9  松山火車站饒河夜市之正八德路透天黃金店面        2         2          0   \n",
       "5         台北市松山區撫遠街    9  松機民生吸睛店辦近內湖地段佳人氣旺開店嘍        1         1          0   \n",
       "6      台北市大安區延吉街62巷    3  自租★東區居酒屋街徒步區適各行業★有衛浴        3         2          0   \n",
       "7    台北市大安區大安路一段16巷    3           SOGO忠孝商圈金店面        1         1          1   \n",
       "8   台北市中正區忠孝西路一段50號    1   北車捷運地下街,彩妝,藥妝,國際品牌等        3         0      0.083   \n",
       "9      台北市大安區忠孝東路四段    3    正捷運出口忠孝敦化黃金飲料外帶小店面        1         0          1   \n",
       "\n",
       "   management_fee parking_space           phone     price space  \n",
       "0           500.0             0  0933- 397- 518   88000      20  \n",
       "1             0.0             0  0937- 115- 450   25000      25  \n",
       "2             0.0             0  0911- 220- 012  450000      84  \n",
       "3          4056.0             0  0931- 067- 175  158000      52  \n",
       "4             0.0             1  0918- 283- 188  200000     145  \n",
       "5             0.0             0  0939- 060- 379   96899      69  \n",
       "6           250.0             0  0938- 252- 562   38000       8  \n",
       "7             0.0             0  0970- 000- 267   70000      12  \n",
       "8         73000.0             0  0932- 203- 133  268000      22  \n",
       "9          2000.0             0  0933- 838- 000  139999      10  "
      ]
     },
     "execution_count": 3,
     "metadata": {},
     "output_type": "execute_result"
    }
   ],
   "source": [
    "df.iloc[list(np.where(df.iloc[:,[1]]==\"中正區\")[0]),[1]] = str(\"1\")\n",
    "df.iloc[list(np.where(df.iloc[:,[1]]==\"中山區\")[0]),[1]] = str(\"2\")\n",
    "df.iloc[list(np.where(df.iloc[:,[1]]==\"大安區\")[0]),[1]] = str(\"3\")\n",
    "df.iloc[list(np.where(df.iloc[:,[1]]==\"信義區\")[0]),[1]] = str(\"4\")\n",
    "df.iloc[list(np.where(df.iloc[:,[1]]==\"士林區\")[0]),[1]] = str(\"5\")\n",
    "df.iloc[list(np.where(df.iloc[:,[1]]==\"內湖區\")[0]),[1]] = str(\"6\")\n",
    "df.iloc[list(np.where(df.iloc[:,[1]]==\"文山區\")[0]),[1]] = str(\"7\")\n",
    "df.iloc[list(np.where(df.iloc[:,[1]]==\"北投區\")[0]),[1]] = str(\"8\")\n",
    "df.iloc[list(np.where(df.iloc[:,[1]]==\"松山區\")[0]),[1]] = str(\"9\")\n",
    "df.iloc[list(np.where(df.iloc[:,[1]]==\"南港區\")[0]),[1]] = str(\"10\")\n",
    "df.iloc[list(np.where(df.iloc[:,[1]]==\"大同區\")[0]),[1]] = str(\"11\")\n",
    "df.iloc[list(np.where(df.iloc[:,[1]]==\"萬華區\")[0]),[1]] = str(\"12\")\n",
    "\n",
    "#============find the identity=======================\n",
    "df.iloc[list(np.where(df['household'].str.find(\"屋主\")>1)[0]),[4]] = str(\"2\")\n",
    "df.iloc[list(np.where(df['household'].str.find(\"仲介\")>1)[0]),[4]] = str(\"1\")\n",
    "df.iloc[list(np.where(df['household'].str.find(\"代理人\")>1)[0]),[4]] = str(\"0\")\n",
    "\n",
    "#==================decorate==========================\n",
    "#np.unique(df.iloc[:,[3]]) # get all element\n",
    "df.iloc[list(np.where(df['decorate'] == \"已辦\")[0]),[3]] = str(\"0\")\n",
    "df.iloc[list(np.where(df['decorate'] == \"不提供\")[0]),[3]] = str(\"0\")\n",
    "df.iloc[list(np.where(df['decorate'] == \"--\")[0]),[3]] = str(\"0\")\n",
    "df.iloc[list(np.where(df['decorate'] == \"提供\")[0]),[3]] = str(\"0\")\n",
    "df.iloc[list(np.where(df['decorate'] == \"未辦\")[0]),[3]] = str(\"0\")\n",
    "df.iloc[list(np.where(df['decorate'] == \"尚未裝潢\")[0]),[3]] = str(\"0\")\n",
    "df.iloc[list(np.where(df['decorate'] == \"簡易裝潢\")[0]),[3]] = str(\"1\")\n",
    "df.iloc[list(np.where(df['decorate'] == \"中檔裝潢\")[0]),[3]] = str(\"2\")\n",
    "df.iloc[list(np.where(df['decorate'] == \"高檔裝潢\")[0]),[3]] = str(\"3\")\n",
    "\n",
    "#==============lease tern===========================\n",
    "#list(np.unique(str(df.iloc[:,[5]]))) # get all element\n",
    "df.iloc[list(np.where(df.iloc[:,[5]]==\"15天\")[0]),[5]] = float(0.04)\n",
    "df.iloc[list(np.where(df.iloc[:,[5]]==\"11年\")[0]),[5]] = int(11)\n",
    "df.iloc[list(np.where(df.iloc[:,[5]]==\"一年\")[0]),[5]] = int(1)\n",
    "df.iloc[list(np.where(df.iloc[:,[5]]==\"1年\")[0]),[5]] = int(1)\n",
    "df.iloc[list(np.where(df.iloc[:,[5]]==\"10天\")[0]),[5]] = float(0.0274)\n",
    "df.iloc[list(np.where(df.iloc[:,[5]]==\"1天\")[0]),[5]] = float(0.0027)\n",
    "df.iloc[list(np.where(df.iloc[:,[5]]==\"1月\")[0]),[5]] = float(0.083)\n",
    "df.iloc[list(np.where(df.iloc[:,[5]]==\"2年\")[0]),[5]] = int(2)\n",
    "df.iloc[list(np.where(df.iloc[:,[5]]==\"3年\")[0]),[5]] = int(3)\n",
    "df.iloc[list(np.where(df.iloc[:,[5]]==\"3月\")[0]),[5]] = float(0.25)\n",
    "df.iloc[list(np.where(df.iloc[:,[5]]==\"4年\")[0]),[5]] = int(4)\n",
    "df.iloc[list(np.where(df.iloc[:,[5]]==\"5年\")[0]),[5]] = int(5)\n",
    "df.iloc[list(np.where(df.iloc[:,[5]]==\"三個月\")[0]),[5]] = int(5)\n",
    "df.iloc[list(np.where(df.iloc[:,[5]]==\"不提供\")[0]),[5]] = int(0)\n",
    "df.iloc[list(np.where(df.iloc[:,[5]]==\"兩年\")[0]),[5]] = int(0)\n",
    "df.iloc[list(np.where(df.iloc[:,[5]]==\"半年\")[0]),[5]] = int(0.5)\n",
    "df.iloc[list(np.where(df.iloc[:,[5]]==\"提供\")[0]),[5]] = int(0)\n",
    "\n",
    "#===============management fee======================\n",
    "#np.unique(df.iloc[:,[6]]) # get all element\n",
    "\n",
    "df['management_fee'] = df['management_fee'].str.replace('元/月','')\n",
    "df.iloc[list(np.where(df.iloc[:,[6]]==\"無\")[0]),[6]] = int(0)\n",
    "df.iloc[list(np.where(df.iloc[:,[6]]==\"--\")[0]),[6]] = int(0)\n",
    "df.iloc[list(np.where(df.iloc[:,[6]]==\"1月\")[0]),[6]] = int(0)\n",
    "df.iloc[list(np.where(df.iloc[:,[6]]==\"一年\")[0]),[6]] = int(0)\n",
    "df[['management_fee']] = df[['management_fee']].astype(float)\n",
    "\n",
    "#===================price===========================\n",
    "#list(np.unique(df.iloc[:,[7]])) # get all element\n",
    "df.iloc[list(np.where(df.iloc[:,[7]]==\"一年\")[0]),[1]] = int(0)\n",
    "#df.iloc[list(np.where(df.iloc[:,[7]] in \"/月\")[0]),[1]]\n",
    "#np.where(df.iloc[:,[10]]) in \"/月\"\n",
    "df['price'] = df['price'].str.replace('元/月','')\n",
    "df['price'] = df['price'].str.replace(',','')\n",
    "#df['price'].str.contains('/月')# get'/月'\n",
    "\n",
    "#===================space===========================\n",
    "df['space'] = df['space'].apply(lambda x:x[6:])\n",
    "df['space'] = df['space'].apply(lambda x:x[:-1])\n",
    "\n",
    "#===============parking space=======================\n",
    "list(np.unique(df.iloc[:,[7]])) # get all element\n",
    "df.iloc[list(np.where(df.iloc[:,[7]]==\"無\")[0]),[7]] = int(0)\n",
    "df.iloc[list(np.where(df.iloc[:,[7]]==\"0元/月\")[0]),[7]] = int(0)\n",
    "df.iloc[list(np.where(df.iloc[:,[7]]==\"元/月\")[0]),[7]] = int(0)\n",
    "df.iloc[list(np.where(df.iloc[:,[7]]==\"平面式停車位，費用另計\")[0]),[7]] = int(1)\n",
    "df.iloc[list(np.where(df.iloc[:,[7]]==\"機械式停車位，費用另計\")[0]),[7]] = int(1)\n",
    "df.iloc[list(np.where(df.iloc[:,[7]]==\"平面式停車位，已含租金內\")[0]),[7]] = int(2)\n",
    "df.iloc[list(np.where(df.iloc[:,[7]]==\"機械式停車位，已含租金內\")[0]),[7]] = int(2)\n",
    "df['parking_space'].astype(int)\n",
    "df.head(10)"
   ]
  },
  {
   "cell_type": "code",
   "execution_count": 4,
   "metadata": {},
   "outputs": [],
   "source": [
    "####################################################\n",
    "#=================analysis==========================\n",
    "####################################################\n",
    "each_man_house_number = df.groupby('phone').count().iloc[:,[1]]\n",
    "df = pd.merge(df,each_man_house_number,left_on='phone', right_index=True)"
   ]
  },
  {
   "cell_type": "code",
   "execution_count": 5,
   "metadata": {},
   "outputs": [],
   "source": [
    "df['price'] = df['price'].astype(int)"
   ]
  },
  {
   "cell_type": "markdown",
   "metadata": {},
   "source": [
    "# Eeach household or realtor with number of house \n",
    "\n",
    "視phone為key值"
   ]
  },
  {
   "cell_type": "code",
   "execution_count": 6,
   "metadata": {},
   "outputs": [
    {
     "data": {
      "image/png": "[encoded data removed]",
      "text/plain": [
       "<matplotlib.figure.Figure at 0x2076cc4c8d0>"
      ]
     },
     "metadata": {},
     "output_type": "display_data"
    }
   ],
   "source": [
    "df = df.rename(columns={'area_y': 'house_number'}) #rename\n",
    "household_house_number = df.drop_duplicates(['phone'])['house_number'] #each household or realtor house number \n",
    "plt.hist(household_house_number)\n",
    "#household_house_number.describe() #summary household_house_number\n",
    "show()"
   ]
  },
  {
   "cell_type": "markdown",
   "metadata": {},
   "source": [
    "# And show the table\n",
    "\n",
    "可發現多數人(84.87%)房子數多為兩間以下。"
   ]
  },
  {
   "cell_type": "code",
   "execution_count": 7,
   "metadata": {},
   "outputs": [
    {
     "data": {
      "text/plain": [
       "Counter({1: 966,\n",
       "         2: 139,\n",
       "         3: 54,\n",
       "         4: 28,\n",
       "         5: 34,\n",
       "         6: 19,\n",
       "         7: 9,\n",
       "         8: 14,\n",
       "         9: 8,\n",
       "         10: 5,\n",
       "         11: 8,\n",
       "         12: 3,\n",
       "         13: 5,\n",
       "         15: 2,\n",
       "         16: 1,\n",
       "         17: 1,\n",
       "         19: 1,\n",
       "         21: 2,\n",
       "         24: 1,\n",
       "         25: 2})"
      ]
     },
     "execution_count": 7,
     "metadata": {},
     "output_type": "execute_result"
    }
   ],
   "source": [
    "Counter(household_house_number) #show the table of household_house_number"
   ]
  },
  {
   "cell_type": "markdown",
   "metadata": {},
   "source": [
    "# Check the price of each house\n",
    "\n",
    "發現一極端值，至該筆資料網頁查看，房租為88,888,888元/月，只有3坪，不合理，視為異常值"
   ]
  },
  {
   "cell_type": "code",
   "execution_count": 8,
   "metadata": {},
   "outputs": [
    {
     "data": {
      "image/png": "[encoded data removed]",
      "text/plain": [
       "<matplotlib.figure.Figure at 0x2076d1af5f8>"
      ]
     },
     "metadata": {},
     "output_type": "display_data"
    }
   ],
   "source": [
    "#df['price'].type\n",
    "person_price = df.groupby('phone').agg({'price':'sum'}) #each person house price\n",
    "person_price_list = list(person_price['price'])\n",
    "plt.plot(person_price_list) #according to price, we can find abnormal data is data 1206, the price is too high\n",
    "show()"
   ]
  },
  {
   "cell_type": "markdown",
   "metadata": {},
   "source": [
    "# There are one abnormal value that we should erase it\n"
   ]
  },
  {
   "cell_type": "code",
   "execution_count": 9,
   "metadata": {},
   "outputs": [
    {
     "data": {
      "image/png": "[encoded data removed]",
      "text/plain": [
       "<matplotlib.figure.Figure at 0x2076d1ff668>"
      ]
     },
     "metadata": {},
     "output_type": "display_data"
    }
   ],
   "source": [
    "df = df.drop(df.index[np.where(df.iloc[:,[9]] == person_price.max())[0][0]]) #so erase it\n",
    "person_price = df.groupby('phone').agg({'price':'sum'}) #each person house price\n",
    "df = pd.merge(df,person_price,left_on='phone', right_index=True)\n",
    "person_price_list = list(person_price['price'])\n",
    "plt.plot(person_price_list) #each person get money/month\n",
    "show()"
   ]
  },
  {
   "cell_type": "markdown",
   "metadata": {},
   "source": [
    "# Histogram of rent income from 10,000 to 1,000,000 per month\n",
    "\n",
    "可發現多數人(包含房東、房仲)每月房租值多為100,000以內。"
   ]
  },
  {
   "cell_type": "code",
   "execution_count": 10,
   "metadata": {},
   "outputs": [
    {
     "data": {
      "image/png": "[encoded data removed]",
      "text/plain": [
       "<matplotlib.figure.Figure at 0x2076d4c17b8>"
      ]
     },
     "metadata": {},
     "output_type": "display_data"
    }
   ],
   "source": [
    "plt.hist(person_price_list,range=(10000, 1000000)) #display the passive income\n",
    "show()"
   ]
  },
  {
   "cell_type": "markdown",
   "metadata": {},
   "source": [
    "# Histogram of rent income (realtor)\n",
    "\n",
    "觀察代理人、房仲之手上案件總價值，\n",
    "若是手上案件多或是總價值高之房仲，其人脈及手腕較好，有機會可與其合作協助銀行業務(信用卡、保險等)\n"
   ]
  },
  {
   "cell_type": "code",
   "execution_count": 11,
   "metadata": {},
   "outputs": [
    {
     "data": {
      "image/png": "[encoded data removed]",
      "text/plain": [
       "<matplotlib.figure.Figure at 0x2076d1af3c8>"
      ]
     },
     "metadata": {},
     "output_type": "display_data"
    }
   ],
   "source": [
    "for_household = df.iloc[list(np.where(df.iloc[:,[4]]==\"1\") or np.where(df.iloc[:,[4]]==\"0\"))[0],:]\n",
    "temp_1 = list(np.where(df.iloc[:,[4]]==\"1\"))[0] \n",
    "temp_2 = list(np.where(df.iloc[:,[4]]==\"0\"))[0]\n",
    "for_household = np.append(temp_1,temp_2)\n",
    "for_household = df.iloc[for_household,:]\n",
    "plt.hist(for_household['price_y'],range=(50000, 3000000))\n",
    "show()"
   ]
  },
  {
   "cell_type": "markdown",
   "metadata": {},
   "source": [
    "下表為各代理人或房仲其手上案件之總金額。"
   ]
  },
  {
   "cell_type": "markdown",
   "metadata": {},
   "source": [
    "房仲其手上案件總金額多為10萬以上(Q1即為16萬)，中位數為57萬，估計至少兩間店面，代表仲介店面之房仲皆可能有許多案件可供顧客選擇，未來國泰可與此類仲介合作，向房東、房客推薦保險，保障雙方權益。"
   ]
  },
  {
   "cell_type": "code",
   "execution_count": 12,
   "metadata": {},
   "outputs": [
    {
     "data": {
      "text/plain": [
       "count    1.958000e+03\n",
       "mean     1.306915e+06\n",
       "std      1.844727e+06\n",
       "min      7.500000e+03\n",
       "25%      1.650000e+05\n",
       "50%      5.739990e+05\n",
       "75%      1.720000e+06\n",
       "max      9.637795e+06\n",
       "Name: price_y, dtype: float64"
      ]
     },
     "execution_count": 12,
     "metadata": {},
     "output_type": "execute_result"
    }
   ],
   "source": [
    "for_household['price_y'].describe()"
   ]
  },
  {
   "cell_type": "markdown",
   "metadata": {},
   "source": [
    "# Histogram of rent income (householder)\n",
    "\n",
    "收入高之房東，其存款不一定於國泰銀行。"
   ]
  },
  {
   "cell_type": "markdown",
   "metadata": {},
   "source": [
    "未來可將此類特徵加入至信用評等或是配人給分等機制，提供經濟能力較好之房東更多優惠，使其成為國泰銀行之客戶。"
   ]
  },
  {
   "cell_type": "code",
   "execution_count": 13,
   "metadata": {},
   "outputs": [
    {
     "data": {
      "image/png": "[encoded data removed]",
      "text/plain": [
       "<matplotlib.figure.Figure at 0x2076d21e160>"
      ]
     },
     "metadata": {},
     "output_type": "display_data"
    }
   ],
   "source": [
    "owner = df.iloc[list(np.where(df.iloc[:,[4]]==\"2\"))[0],:]\n",
    "plt.hist(owner['price_y'],range=(50000, 200000))\n",
    "show()"
   ]
  },
  {
   "cell_type": "markdown",
   "metadata": {},
   "source": [
    "下表為各房東其房租每月租金總額。"
   ]
  },
  {
   "cell_type": "markdown",
   "metadata": {},
   "source": [
    "中位數為50000，Q1為30000，可見具有店面之房東大多其被動收入即為一般人之薪水。"
   ]
  },
  {
   "cell_type": "code",
   "execution_count": 14,
   "metadata": {},
   "outputs": [
    {
     "data": {
      "text/plain": [
       "count    5.270000e+02\n",
       "mean     9.471766e+04\n",
       "std      1.376793e+05\n",
       "min      1.000000e+03\n",
       "25%      3.000000e+04\n",
       "50%      5.000000e+04\n",
       "75%      1.000000e+05\n",
       "max      1.500000e+06\n",
       "Name: price_y, dtype: float64"
      ]
     },
     "execution_count": 14,
     "metadata": {},
     "output_type": "execute_result"
    }
   ],
   "source": [
    "owner['price_y'].describe()"
   ]
  },
  {
   "cell_type": "markdown",
   "metadata": {},
   "source": [
    "# 分群(2~10群)\n",
    "\n",
    "可發現K=2為最佳"
   ]
  },
  {
   "cell_type": "code",
   "execution_count": 15,
   "metadata": {},
   "outputs": [
    {
     "data": {
      "image/png": "[encoded data removed]",
      "text/plain": [
       "<matplotlib.figure.Figure at 0x2076d21e9b0>"
      ]
     },
     "metadata": {},
     "output_type": "display_data"
    },
    {
     "name": "stdout",
     "output_type": "stream",
     "text": [
      "[0.83636682151352237, 0.7576066803118241, 0.70385215293705017, 0.67356344024473302, 0.62292945970319791, 0.62188747171219205, 0.60451360423593825, 0.58215884890296654, 0.55689901854630441]\n"
     ]
    }
   ],
   "source": [
    "from sklearn import cluster, metrics\n",
    "from sklearn.cluster import KMeans\n",
    "x = df.iloc[:,[1,3,4,5,6,7,9,10]]\n",
    "cluster_labels = {}\n",
    "silhouette_avgs = []\n",
    "ks = range(2, 11)\n",
    "for k in ks:\n",
    "    kmeans_fit = cluster.KMeans(n_clusters = k).fit(df.iloc[:,[1,3,4,5,6,7,9,10]])\n",
    "    cluster_labels[k] = kmeans_fit.labels_\n",
    "    silhouette_avg = metrics.silhouette_score(df.iloc[:,[1,3,4,5,6,7,9,10]], cluster_labels[k])\n",
    "    silhouette_avgs.append(silhouette_avg)\n",
    "#plot from 2 to 10 clustering\n",
    "plt.bar(ks, silhouette_avgs)\n",
    "plt.show()\n",
    "print(silhouette_avgs)\n"
   ]
  },
  {
   "cell_type": "markdown",
   "metadata": {},
   "source": [
    "# 分別觀察兩群差異"
   ]
  },
  {
   "cell_type": "code",
   "execution_count": 16,
   "metadata": {},
   "outputs": [],
   "source": [
    "plt.style.use('ggplot')\n",
    "temp_1 = df.iloc[list(np.where(cluster_labels[2]==0)[0]),:]\n",
    "temp_2 = df.iloc[list(np.where(cluster_labels[2]==1)[0]),:]"
   ]
  },
  {
   "cell_type": "code",
   "execution_count": 17,
   "metadata": {},
   "outputs": [
    {
     "name": "stdout",
     "output_type": "stream",
     "text": [
      "['decorate', 'household', 'lease_tern', 'management_fee', 'parking_space', 'price_x', 'space']\n",
      "[0.34714003944773175, 0.56445477599323757, 0.082187043725505268, 0.0057838360036162233, 0.065722738799661881, 0.033550547407152874, 0.0089065860414655144]\n"
     ]
    }
   ],
   "source": [
    "decorate_temp_1 = pd.Series.mean(temp_1['decorate'].astype(int))\n",
    "decorate_temp_1 = (decorate_temp_1-df['decorate'].astype(float).min())/(df['decorate'].astype(float).max()-df['decorate'].astype(float).min())\n",
    "household_temp_1 = pd.Series.mean(temp_1['household'].astype(int))\n",
    "household_temp_1 = (household_temp_1-df['household'].astype(float).min())/(df['household'].astype(float).max()-df['household'].astype(float).min())\n",
    "lease_tern_temp_1 = pd.Series.mean(temp_1['lease_tern'].astype(int))\n",
    "lease_tern_temp_1 = (lease_tern_temp_1-df['lease_tern'].astype(float).min())/(df['lease_tern'].astype(float).max()-df['lease_tern'].astype(float).min())\n",
    "management_fee_temp_1 = pd.Series.mean(temp_1['management_fee'].astype(int))\n",
    "management_fee_temp_1 = (management_fee_temp_1-df['management_fee'].astype(float).min())/(df['management_fee'].astype(float).max()-df['management_fee'].astype(float).min())\n",
    "parking_space_temp_1 = pd.Series.mean(temp_1['parking_space'].astype(int))\n",
    "parking_space_temp_1 = (parking_space_temp_1-df['parking_space'].astype(float).min())/(df['parking_space'].astype(float).max()-df['parking_space'].astype(float).min())\n",
    "price_x_temp_1 = pd.Series.mean(temp_1['price_x'].astype(int))\n",
    "price_x_temp_1 = (price_x_temp_1-df['price_x'].astype(float).min())/(df['price_x'].astype(float).max()-df['price_x'].astype(float).min())\n",
    "space_temp_1 = pd.Series.mean(temp_1['space'].astype(float))\n",
    "space_temp_1 = (space_temp_1-df['space'].astype(float).min())/(df['space'].astype(float).max()-df['space'].astype(float).min())\n",
    "\n",
    "values_1 = [decorate_temp_1,household_temp_1,lease_tern_temp_1,management_fee_temp_1,parking_space_temp_1,price_x_temp_1,space_temp_1]\n",
    "#values_1 = np.multiply(values_1,10)\n",
    "feature = ['decorate', 'household', 'lease_tern','management_fee','parking_space', 'price_x', 'space']\n",
    "print(feature)\n",
    "print(values_1)\n",
    "\n",
    "N = len(feature)\n",
    "angles_1 = np.linspace(0, 2*np.pi, N, endpoint=False)# 設置雷達圖的角度，用於平分切開一個圓面\n",
    "values_1 = np.concatenate((values_1,[values_1[0]]))# 為了使雷達圖一圈封閉起來，需要下面的步驟\n",
    "angles_1 = np.concatenate((angles_1,[angles_1[0]]))\n"
   ]
  },
  {
   "cell_type": "markdown",
   "metadata": {},
   "source": [
    "# 利用雷達圖觀察第一群(正規化0~1)"
   ]
  },
  {
   "cell_type": "code",
   "execution_count": 18,
   "metadata": {},
   "outputs": [
    {
     "data": {
      "image/png": "[encoded data removed]",
      "text/plain": [
       "<matplotlib.figure.Figure at 0x2076d3591d0>"
      ]
     },
     "metadata": {},
     "output_type": "display_data"
    }
   ],
   "source": [
    "fig=plt.figure()\n",
    "ax = fig.add_subplot(111, polar=True)\n",
    "ax.plot(angles_1, values_1, 'o-', linewidth=2)\n",
    "ax.fill(angles_1, values_1, alpha=0.25)\n",
    "ax.set_thetagrids(angles_1 * 180/np.pi, feature)\n",
    "ax.set_ylim(-1,1)\n",
    "plt.title('clustering_1')\n",
    "ax.grid(True)\n",
    "plt.show()\n"
   ]
  },
  {
   "cell_type": "code",
   "execution_count": 19,
   "metadata": {},
   "outputs": [
    {
     "name": "stdout",
     "output_type": "stream",
     "text": [
      "['decorate', 'household', 'lease_tern', 'management_fee', 'parking_space', 'price_x', 'space']\n",
      "[0.33053221288515405, 0.47899159663865548, 0.085561497326203204, 0.047691727769151995, 0.15546218487394958, 0.26136335256525506, 0.061337399056601516]\n"
     ]
    }
   ],
   "source": [
    "decorate_temp_2 = pd.Series.mean(temp_2['decorate'].astype(int))\n",
    "decorate_temp_2 = (decorate_temp_2-df['decorate'].astype(float).min())/(df['decorate'].astype(float).max()-df['decorate'].astype(float).min())\n",
    "household_temp_2 = pd.Series.mean(temp_2['household'].astype(int))\n",
    "household_temp_2 = (household_temp_2-df['household'].astype(float).min())/(df['household'].astype(float).max()-df['household'].astype(float).min())\n",
    "lease_tern_temp_2 = pd.Series.mean(temp_2['lease_tern'].astype(int))\n",
    "lease_tern_temp_2 = (lease_tern_temp_2-df['lease_tern'].astype(float).min())/(df['lease_tern'].astype(float).max()-df['lease_tern'].astype(float).min())\n",
    "management_fee_temp_2 = pd.Series.mean(temp_2['management_fee'].astype(int))\n",
    "management_fee_temp_2 = (management_fee_temp_2-df['management_fee'].astype(float).min())/(df['management_fee'].astype(float).max()-df['management_fee'].astype(float).min())\n",
    "parking_space_temp_2 = pd.Series.mean(temp_2['parking_space'].astype(int))\n",
    "parking_space_temp_2 = (parking_space_temp_2-df['parking_space'].astype(float).min())/(df['parking_space'].astype(float).max()-df['parking_space'].astype(float).min())\n",
    "price_x_temp_2 = pd.Series.mean(temp_2['price_x'].astype(int))\n",
    "price_x_temp_2 = (price_x_temp_2-df['price_x'].astype(float).min())/(df['price_x'].astype(float).max()-df['price_x'].astype(float).min())\n",
    "space_temp_2 = pd.Series.mean(temp_2['space'].astype(float))\n",
    "space_temp_2 = (space_temp_2-df['space'].astype(float).min())/(df['space'].astype(float).max()-df['space'].astype(float).min())\n",
    "\n",
    "values_2 = [decorate_temp_2,household_temp_2,lease_tern_temp_2,management_fee_temp_2,parking_space_temp_2,price_x_temp_2,space_temp_2]\n",
    "#values_2 = np.multiply(values_2,10)\n",
    "feature = ['decorate', 'household', 'lease_tern','management_fee','parking_space', 'price_x', 'space']\n",
    "print(feature)\n",
    "print(values_2)\n",
    "N = len(feature)\n",
    "angles_2 = np.linspace(0, 2*np.pi, N, endpoint=False)\n",
    "values_2 = np.concatenate((values_2,[values_2[0]]))\n",
    "angles_2 = np.concatenate((angles_2,[angles_2[0]]))\n"
   ]
  },
  {
   "cell_type": "markdown",
   "metadata": {},
   "source": [
    "# 利用雷達圖觀察第二群(正規化0~1)"
   ]
  },
  {
   "cell_type": "code",
   "execution_count": 20,
   "metadata": {},
   "outputs": [
    {
     "data": {
      "image/png": "[encoded data removed]",
      "text/plain": [
       "<matplotlib.figure.Figure at 0x2076d9e60f0>"
      ]
     },
     "metadata": {},
     "output_type": "display_data"
    }
   ],
   "source": [
    "fig=plt.figure()\n",
    "ax = fig.add_subplot(111, polar=True)\n",
    "ax.plot(angles_2, values_2, 'o-', linewidth=2)\n",
    "ax.fill(angles_2, values_2, alpha=0.25)\n",
    "ax.set_thetagrids(angles_2 * 180/np.pi, feature)\n",
    "ax.set_ylim(-1,1)\n",
    "plt.title('clustering_2')\n",
    "ax.grid(True)\n",
    "plt.show()"
   ]
  },
  {
   "cell_type": "markdown",
   "metadata": {},
   "source": [
    "# 兩群差異為下\n",
    "\n",
    "第一群和第二群之\"price_x\"(租金)平均分別為(0.03355,0.26136)，為其7倍。\n"
   ]
  },
  {
   "cell_type": "markdown",
   "metadata": {},
   "source": [
    "'space'(租屋大小坪數)平均分別為(0.0089,0.0613)，為其6倍"
   ]
  },
  {
   "cell_type": "markdown",
   "metadata": {},
   "source": [
    "'parking_space'平均分別為(0.0657,0.1555)，為其2.5倍"
   ]
  },
  {
   "cell_type": "markdown",
   "metadata": {},
   "source": [
    "'management_fee'平均分別為(0.0057,0.0477)，為其8倍"
   ]
  },
  {
   "cell_type": "markdown",
   "metadata": {},
   "source": [
    "該分群結果明顯將第二群視為高檔店面，此類房東或是租客較有機會進行高資產管理，此類房東、房客多為開設店面營業用，通常可推薦商店綜合險、動產火險等，保障其營業安全。"
   ]
  },
  {
   "cell_type": "markdown",
   "metadata": {},
   "source": [
    "# 未來應用\n",
    "\n",
    "可定期爬蟲該網站，可建立一時間序列之資料庫除了蒐集房東、土地資訊協助信用評等、客戶評分外，可提建立推薦系統，供貸款買房爾或創業之民眾加值服務，針對客戶性質推薦不同之店面、租屋資訊。"
   ]
  },
  {
   "cell_type": "markdown",
   "metadata": {},
   "source": [
    "亦可進行房價預測，B2B之合作(例如永慶房屋)，偕同投資等。"
   ]
  },
  {
   "cell_type": "markdown",
   "metadata": {},
   "source": [
    "建立時間序列之資料，亦可觀察房市交易量及租金，\n",
    "交易量越大表示該租金越貼近該價值，又因租金反映房價，可利用該資訊觀察各區之交易，進而發展為投資系統。"
   ]
  }
 ],
 "metadata": {
  "kernelspec": {
   "display_name": "Python 3",
   "language": "python",
   "name": "python3"
  },
  "language_info": {
   "codemirror_mode": {
    "name": "ipython",
    "version": 3
   },
   "file_extension": ".py",
   "mimetype": "text/x-python",
   "name": "python",
   "nbconvert_exporter": "python",
   "pygments_lexer": "ipython3",
   "version": "3.6.1"
  }
 },
 "nbformat": 4,
 "nbformat_minor": 2
}
